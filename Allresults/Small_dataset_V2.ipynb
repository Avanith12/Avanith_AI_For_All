{
 "cells": [
  {
   "cell_type": "code",
   "execution_count": 1,
   "id": "9965a642",
   "metadata": {},
   "outputs": [],
   "source": [
    "# IMPORTS\n",
    "\n",
    "import tensorflow as tf\n",
    "import numpy as np\n",
    "from tensorflow import keras\n",
    "from keras import layers, models\n",
    "import matplotlib.pyplot as plt\n",
    "from keras.utils import to_categorical\n",
    "from keras import metrics, losses\n",
    "from keras.models import load_model\n",
    "from sklearn.model_selection import train_test_split\n",
    "from PIL import Image\n",
    "import os\n",
    "import random\n"
   ]
  },
  {
   "cell_type": "code",
   "execution_count": 2,
   "id": "a1c30b4a",
   "metadata": {},
   "outputs": [
    {
     "name": "stderr",
     "output_type": "stream",
     "text": [
      "WARNING:absl:No training configuration found in the save file, so the model was *not* compiled. Compile it manually.\n",
      "WARNING:absl:No training configuration found in the save file, so the model was *not* compiled. Compile it manually.\n",
      "WARNING:absl:Compiled the loaded model, but the compiled metrics have yet to be built. `model.compile_metrics` will be empty until you train or evaluate the model.\n"
     ]
    }
   ],
   "source": [
    "# Load both the teacher and student model\n",
    "\n",
    "scratch_student = load_model('student_model.h5')\n",
    "student_model = load_model('student_model.h5')\n",
    "teacher_model =  load_model('teacher_model.h5')\n"
   ]
  },
  {
   "cell_type": "code",
   "execution_count": 4,
   "id": "dc8d2429",
   "metadata": {},
   "outputs": [
    {
     "name": "stdout",
     "output_type": "stream",
     "text": [
      "Training images shape: (800, 32, 32, 3)\n",
      "Testing images shape: (200, 32, 32, 3)\n"
     ]
    }
   ],
   "source": [
    "# Load train from v2(1000), test from google+bing(1000)\n",
    "train_dir = \"v2(1000)\"\n",
    "test_dir = \"google+bing(1000)\"\n",
    "img_size = (32, 32)\n",
    "\n",
    "classes = sorted(os.listdir(train_dir))  # e.g., airplane, automobile, etc.\n",
    "class_indices = {cls: idx for idx, cls in enumerate(classes)}\n",
    "\n",
    "# Mapping from v2 class names to corresponding test folder names\n",
    "class_folder_map = {\n",
    "    'airplane': 'airplanes_square',\n",
    "    'automobile': 'automobiles_square',\n",
    "    'ship': 'ships_square (1)',\n",
    "    'dog': 'dog_square',\n",
    "    'deer': 'deer_square',\n",
    "    'cat': 'cat',\n",
    "    'truck': 'truck',\n",
    "    'bird': 'bird',\n",
    "    'horse': 'horse',\n",
    "    'frog': 'frog'\n",
    "}\n",
    "\n",
    "# Load training images\n",
    "X_train, y_train = [], []\n",
    "for cls in classes:\n",
    "    cls_path = os.path.join(train_dir, cls)\n",
    "    images = sorted(os.listdir(cls_path))\n",
    "    selected = random.sample(images, 80)\n",
    "    for fname in selected:\n",
    "        img = Image.open(os.path.join(cls_path, fname)).convert(\"RGB\").resize(img_size)\n",
    "        X_train.append(np.array(img))\n",
    "        y_train.append(class_indices[cls])\n",
    "\n",
    "# Load testing images\n",
    "X_test, y_test = [], []\n",
    "for cls in classes:\n",
    "    test_cls_folder = class_folder_map[cls]\n",
    "    cls_path = os.path.join(test_dir, test_cls_folder)\n",
    "    images = sorted(os.listdir(cls_path))\n",
    "    selected = random.sample(images, 20)\n",
    "    for fname in selected:\n",
    "        img = Image.open(os.path.join(cls_path, fname)).convert(\"RGB\").resize(img_size)\n",
    "        X_test.append(np.array(img))\n",
    "        y_test.append(class_indices[cls])\n",
    "\n",
    "# Normalize and encode\n",
    "X_train = np.array(X_train).astype(\"float32\") / 255.0\n",
    "X_test = np.array(X_test).astype(\"float32\") / 255.0\n",
    "train_labels = to_categorical(np.array(y_train), num_classes=10)\n",
    "test_labels = to_categorical(np.array(y_test), num_classes=10)\n",
    "\n",
    "print(\"Training images shape:\", X_train.shape)\n",
    "print(\"Testing images shape:\", X_test.shape)\n"
   ]
  },
  {
   "cell_type": "code",
   "execution_count": 5,
   "id": "bf403436",
   "metadata": {},
   "outputs": [],
   "source": [
    "# Compute student model metrics without KD\n",
    "\n",
    "scratch_student.compile(optimizer = 'sgd',\n",
    "              loss='categorical_crossentropy',\n",
    "              metrics=['accuracy'])\n"
   ]
  },
  {
   "cell_type": "code",
   "execution_count": 6,
   "id": "2ca0173c",
   "metadata": {},
   "outputs": [
    {
     "name": "stdout",
     "output_type": "stream",
     "text": [
      "Epoch 1/7\n",
      "\u001b[1m25/25\u001b[0m \u001b[32m━━━━━━━━━━━━━━━━━━━━\u001b[0m\u001b[37m\u001b[0m \u001b[1m4s\u001b[0m 32ms/step - accuracy: 0.0863 - loss: 3.5632\n",
      "Epoch 2/7\n",
      "\u001b[1m25/25\u001b[0m \u001b[32m━━━━━━━━━━━━━━━━━━━━\u001b[0m\u001b[37m\u001b[0m \u001b[1m1s\u001b[0m 32ms/step - accuracy: 0.1378 - loss: 2.9903\n",
      "Epoch 3/7\n",
      "\u001b[1m25/25\u001b[0m \u001b[32m━━━━━━━━━━━━━━━━━━━━\u001b[0m\u001b[37m\u001b[0m \u001b[1m1s\u001b[0m 36ms/step - accuracy: 0.1721 - loss: 2.8072\n",
      "Epoch 4/7\n",
      "\u001b[1m25/25\u001b[0m \u001b[32m━━━━━━━━━━━━━━━━━━━━\u001b[0m\u001b[37m\u001b[0m \u001b[1m1s\u001b[0m 33ms/step - accuracy: 0.2137 - loss: 2.4768\n",
      "Epoch 5/7\n",
      "\u001b[1m25/25\u001b[0m \u001b[32m━━━━━━━━━━━━━━━━━━━━\u001b[0m\u001b[37m\u001b[0m \u001b[1m1s\u001b[0m 34ms/step - accuracy: 0.2219 - loss: 2.4422\n",
      "Epoch 6/7\n",
      "\u001b[1m25/25\u001b[0m \u001b[32m━━━━━━━━━━━━━━━━━━━━\u001b[0m\u001b[37m\u001b[0m \u001b[1m1s\u001b[0m 28ms/step - accuracy: 0.2338 - loss: 2.2568\n",
      "Epoch 7/7\n",
      "\u001b[1m25/25\u001b[0m \u001b[32m━━━━━━━━━━━━━━━━━━━━\u001b[0m\u001b[37m\u001b[0m \u001b[1m1s\u001b[0m 30ms/step - accuracy: 0.3176 - loss: 2.0376\n"
     ]
    },
    {
     "data": {
      "text/plain": [
       "<keras.src.callbacks.history.History at 0x23edaa41180>"
      ]
     },
     "execution_count": 6,
     "metadata": {},
     "output_type": "execute_result"
    }
   ],
   "source": [
    "# First, let us try to see what if we directly train the student model without using knowledge distillation\n",
    "\n",
    "scratch_student.fit(X_train, train_labels, epochs=7, batch_size=32)\n"
   ]
  },
  {
   "cell_type": "code",
   "execution_count": 7,
   "id": "30bb29af",
   "metadata": {},
   "outputs": [
    {
     "name": "stdout",
     "output_type": "stream",
     "text": [
      "\u001b[1m7/7\u001b[0m \u001b[32m━━━━━━━━━━━━━━━━━━━━\u001b[0m\u001b[37m\u001b[0m \u001b[1m1s\u001b[0m 20ms/step - accuracy: 0.0783 - loss: 3.0053    \n"
     ]
    },
    {
     "data": {
      "text/plain": [
       "[2.915072441101074, 0.1550000011920929]"
      ]
     },
     "execution_count": 7,
     "metadata": {},
     "output_type": "execute_result"
    }
   ],
   "source": [
    "# We evaluate student model for its loss and accuracy, if the student model is trained without using knowledge distillation\n",
    "\n",
    "scratch_student.evaluate(X_test, test_labels)\n"
   ]
  },
  {
   "cell_type": "code",
   "execution_count": 8,
   "id": "88431aed",
   "metadata": {},
   "outputs": [],
   "source": [
    "# KNOWLEDGE DISTILLATION CLASS, You can adjust alpha based on how much you want the student to learn from the teacher\n",
    "\n",
    "class Distiller(keras.Model):\n",
    "    def __init__(self, student, teacher):\n",
    "        super().__init__()\n",
    "        self.teacher = teacher\n",
    "        self.student = student\n",
    "\n",
    "    def compile(\n",
    "        self,\n",
    "        optimizer,\n",
    "        metrics,\n",
    "        student_loss_fn,\n",
    "        distillation_loss_fn,\n",
    "        alpha=0.2,\n",
    "        temperature=3,\n",
    "    ):\n",
    "        super().compile(optimizer=optimizer, metrics=metrics)\n",
    "        self.student_loss_fn = student_loss_fn\n",
    "        self.distillation_loss_fn = distillation_loss_fn\n",
    "        self.alpha = alpha\n",
    "        self.temperature = temperature\n",
    "\n",
    "    def compute_loss(\n",
    "        self, x=None, y=None, y_pred=None, sample_weight=None, allow_empty=False\n",
    "    ):\n",
    "        teacher_pred = self.teacher(x, training=False)\n",
    "        student_loss = self.student_loss_fn(y, y_pred)\n",
    "\n",
    "        distillation_loss = self.distillation_loss_fn(\n",
    "            tf.nn.softmax(teacher_pred / self.temperature, axis=1),\n",
    "            tf.nn.softmax(y_pred / self.temperature, axis=1),\n",
    "        ) * (self.temperature**2)\n",
    "\n",
    "        loss = self.alpha * student_loss + (1 - self.alpha) * distillation_loss\n",
    "        return loss\n",
    "\n",
    "    def call(self, x):\n",
    "        return self.student(x)\n"
   ]
  },
  {
   "cell_type": "code",
   "execution_count": 9,
   "id": "29f7938a",
   "metadata": {},
   "outputs": [
    {
     "name": "stdout",
     "output_type": "stream",
     "text": [
      "Epoch 1/7\n",
      "\u001b[1m20/20\u001b[0m \u001b[32m━━━━━━━━━━━━━━━━━━━━\u001b[0m\u001b[37m\u001b[0m \u001b[1m7s\u001b[0m 76ms/step - categorical_accuracy: 0.1172 - loss: 2.2770 - val_categorical_accuracy: 0.0000e+00 - val_loss: 2.7901\n",
      "Epoch 2/7\n",
      "\u001b[1m20/20\u001b[0m \u001b[32m━━━━━━━━━━━━━━━━━━━━\u001b[0m\u001b[37m\u001b[0m \u001b[1m1s\u001b[0m 47ms/step - categorical_accuracy: 0.1070 - loss: 2.2549 - val_categorical_accuracy: 0.0000e+00 - val_loss: 2.8581\n",
      "Epoch 3/7\n",
      "\u001b[1m20/20\u001b[0m \u001b[32m━━━━━━━━━━━━━━━━━━━━\u001b[0m\u001b[37m\u001b[0m \u001b[1m1s\u001b[0m 43ms/step - categorical_accuracy: 0.1103 - loss: 2.2504 - val_categorical_accuracy: 0.0000e+00 - val_loss: 2.9549\n",
      "Epoch 4/7\n",
      "\u001b[1m20/20\u001b[0m \u001b[32m━━━━━━━━━━━━━━━━━━━━\u001b[0m\u001b[37m\u001b[0m \u001b[1m1s\u001b[0m 44ms/step - categorical_accuracy: 0.1429 - loss: 2.2357 - val_categorical_accuracy: 0.0000e+00 - val_loss: 3.9543\n",
      "Epoch 5/7\n",
      "\u001b[1m20/20\u001b[0m \u001b[32m━━━━━━━━━━━━━━━━━━━━\u001b[0m\u001b[37m\u001b[0m \u001b[1m1s\u001b[0m 42ms/step - categorical_accuracy: 0.1885 - loss: 2.2348 - val_categorical_accuracy: 0.0000e+00 - val_loss: 3.2993\n",
      "Epoch 6/7\n",
      "\u001b[1m20/20\u001b[0m \u001b[32m━━━━━━━━━━━━━━━━━━━━\u001b[0m\u001b[37m\u001b[0m \u001b[1m1s\u001b[0m 46ms/step - categorical_accuracy: 0.2735 - loss: 2.2115 - val_categorical_accuracy: 0.0000e+00 - val_loss: 3.9428\n",
      "Epoch 7/7\n",
      "\u001b[1m20/20\u001b[0m \u001b[32m━━━━━━━━━━━━━━━━━━━━\u001b[0m\u001b[37m\u001b[0m \u001b[1m1s\u001b[0m 46ms/step - categorical_accuracy: 0.2912 - loss: 2.1972 - val_categorical_accuracy: 0.0000e+00 - val_loss: 3.4314\n"
     ]
    }
   ],
   "source": [
    "# Initialize the distiller\n",
    "# Train the student model using knowledge distillation\n",
    "\n",
    "distiller = Distiller(student=student_model, teacher=teacher_model)\n",
    "\n",
    "distiller.compile(\n",
    "    optimizer=keras.optimizers.Adam(),\n",
    "    metrics=[metrics.CategoricalAccuracy()],\n",
    "    student_loss_fn=losses.CategoricalCrossentropy(),\n",
    "    distillation_loss_fn=losses.CategoricalCrossentropy(),\n",
    "    alpha=0.2,\n",
    "    temperature=1,\n",
    ") \n",
    "\n",
    "# Fitting the student model receiving KD\n",
    "history = distiller.fit(\n",
    "    X_train,\n",
    "    train_labels,\n",
    "    epochs=7,\n",
    "    batch_size=32,  \n",
    "    validation_split=0.2,\n",
    ")\n"
   ]
  },
  {
   "cell_type": "code",
   "execution_count": 10,
   "id": "d6eac2be",
   "metadata": {},
   "outputs": [
    {
     "name": "stdout",
     "output_type": "stream",
     "text": [
      "\u001b[1m7/7\u001b[0m \u001b[32m━━━━━━━━━━━━━━━━━━━━\u001b[0m\u001b[37m\u001b[0m \u001b[1m2s\u001b[0m 119ms/step - categorical_accuracy: 0.1744 - loss: 2.3130\n"
     ]
    },
    {
     "data": {
      "text/plain": [
       "[2.4698023796081543, 0.14000000059604645]"
      ]
     },
     "execution_count": 10,
     "metadata": {},
     "output_type": "execute_result"
    }
   ],
   "source": [
    "# We evaluate student model again for its loss and accuracy,\n",
    "# But this time the student model is trained using knowledge distillation\n",
    "# You can compare this results with the results above\n",
    "\n",
    "distiller.evaluate(X_test, test_labels)\n"
   ]
  },
  {
   "cell_type": "code",
   "execution_count": null,
   "id": "af038cd0",
   "metadata": {},
   "outputs": [],
   "source": []
  }
 ],
 "metadata": {
  "kernelspec": {
   "display_name": "Python 3",
   "language": "python",
   "name": "python3"
  },
  "language_info": {
   "codemirror_mode": {
    "name": "ipython",
    "version": 3
   },
   "file_extension": ".py",
   "mimetype": "text/x-python",
   "name": "python",
   "nbconvert_exporter": "python",
   "pygments_lexer": "ipython3",
   "version": "3.10.16"
  }
 },
 "nbformat": 4,
 "nbformat_minor": 5
}
