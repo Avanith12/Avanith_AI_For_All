{
 "cells": [
  {
   "cell_type": "markdown",
   "metadata": {},
   "source": [
    "## 1: Google"
   ]
  },
  {
   "cell_type": "code",
   "execution_count": 1,
   "metadata": {},
   "outputs": [
    {
     "name": "stderr",
     "output_type": "stream",
     "text": [
      "2025-05-04 09:43:58.975512: I tensorflow/core/util/port.cc:153] oneDNN custom operations are on. You may see slightly different numerical results due to floating-point round-off errors from different computation orders. To turn them off, set the environment variable `TF_ENABLE_ONEDNN_OPTS=0`.\n",
      "2025-05-04 09:43:58.996030: E external/local_xla/xla/stream_executor/cuda/cuda_fft.cc:477] Unable to register cuFFT factory: Attempting to register factory for plugin cuFFT when one has already been registered\n",
      "WARNING: All log messages before absl::InitializeLog() is called are written to STDERR\n",
      "E0000 00:00:1746366239.018617 4093085 cuda_dnn.cc:8310] Unable to register cuDNN factory: Attempting to register factory for plugin cuDNN when one has already been registered\n",
      "E0000 00:00:1746366239.025421 4093085 cuda_blas.cc:1418] Unable to register cuBLAS factory: Attempting to register factory for plugin cuBLAS when one has already been registered\n",
      "2025-05-04 09:43:59.048116: I tensorflow/core/platform/cpu_feature_guard.cc:210] This TensorFlow binary is optimized to use available CPU instructions in performance-critical operations.\n",
      "To enable the following instructions: AVX2 AVX512F AVX512_VNNI FMA, in other operations, rebuild TensorFlow with the appropriate compiler flags.\n"
     ]
    },
    {
     "name": "stdout",
     "output_type": "stream",
     "text": [
      "Found 8000 images belonging to 10 classes.\n",
      "Found 2000 images belonging to 10 classes.\n"
     ]
    },
    {
     "name": "stderr",
     "output_type": "stream",
     "text": [
      "2025-05-04 09:44:02.641043: E external/local_xla/xla/stream_executor/cuda/cuda_driver.cc:152] failed call to cuInit: INTERNAL: CUDA error: Failed call to cuInit: CUDA_ERROR_SYSTEM_DRIVER_MISMATCH: system has unsupported display driver / cuda driver combination\n",
      "WARNING:absl:No training configuration found in the save file, so the model was *not* compiled. Compile it manually.\n",
      "/home/huuthanhvy.nguyen001/anaconda3/envs/sbatch2/lib/python3.10/site-packages/keras/src/trainers/data_adapters/py_dataset_adapter.py:121: UserWarning: Your `PyDataset` class should call `super().__init__(**kwargs)` in its constructor. `**kwargs` can include `workers`, `use_multiprocessing`, `max_queue_size`. Do not pass these arguments to `fit()`, as they will be ignored.\n",
      "  self._warn_if_super_not_called()\n"
     ]
    },
    {
     "name": "stdout",
     "output_type": "stream",
     "text": [
      "🚀 Training student model from scratch...\n",
      "Epoch 1/7\n",
      "\u001b[1m181/250\u001b[0m \u001b[32m━━━━━━━━━━━━━━\u001b[0m\u001b[37m━━━━━━\u001b[0m \u001b[1m4:16\u001b[0m 4s/step - accuracy: 0.1841 - loss: 2.8809"
     ]
    },
    {
     "name": "stderr",
     "output_type": "stream",
     "text": [
      "/home/huuthanhvy.nguyen001/anaconda3/envs/sbatch2/lib/python3.10/site-packages/PIL/Image.py:1056: UserWarning: Palette images with Transparency expressed in bytes should be converted to RGBA images\n",
      "  warnings.warn(\n"
     ]
    },
    {
     "name": "stdout",
     "output_type": "stream",
     "text": [
      "\u001b[1m250/250\u001b[0m \u001b[32m━━━━━━━━━━━━━━━━━━━━\u001b[0m\u001b[37m\u001b[0m \u001b[1m1184s\u001b[0m 5s/step - accuracy: 0.1961 - loss: 2.7818 - val_accuracy: 0.1355 - val_loss: 2.5601\n",
      "Epoch 2/7\n",
      "\u001b[1m250/250\u001b[0m \u001b[32m━━━━━━━━━━━━━━━━━━━━\u001b[0m\u001b[37m\u001b[0m \u001b[1m1148s\u001b[0m 5s/step - accuracy: 0.2696 - loss: 2.0873 - val_accuracy: 0.3285 - val_loss: 1.8242\n",
      "Epoch 3/7\n",
      "\u001b[1m250/250\u001b[0m \u001b[32m━━━━━━━━━━━━━━━━━━━━\u001b[0m\u001b[37m\u001b[0m \u001b[1m1154s\u001b[0m 5s/step - accuracy: 0.3347 - loss: 1.9009 - val_accuracy: 0.4245 - val_loss: 1.5846\n",
      "Epoch 4/7\n",
      "\u001b[1m250/250\u001b[0m \u001b[32m━━━━━━━━━━━━━━━━━━━━\u001b[0m\u001b[37m\u001b[0m \u001b[1m1152s\u001b[0m 5s/step - accuracy: 0.3445 - loss: 1.8157 - val_accuracy: 0.4415 - val_loss: 1.5564\n",
      "Epoch 5/7\n",
      "\u001b[1m250/250\u001b[0m \u001b[32m━━━━━━━━━━━━━━━━━━━━\u001b[0m\u001b[37m\u001b[0m \u001b[1m1151s\u001b[0m 5s/step - accuracy: 0.3767 - loss: 1.7499 - val_accuracy: 0.4140 - val_loss: 1.7017\n",
      "Epoch 6/7\n",
      "\u001b[1m250/250\u001b[0m \u001b[32m━━━━━━━━━━━━━━━━━━━━\u001b[0m\u001b[37m\u001b[0m \u001b[1m1150s\u001b[0m 5s/step - accuracy: 0.3811 - loss: 1.6928 - val_accuracy: 0.4650 - val_loss: 1.5251\n",
      "Epoch 7/7\n",
      "\u001b[1m250/250\u001b[0m \u001b[32m━━━━━━━━━━━━━━━━━━━━\u001b[0m\u001b[37m\u001b[0m \u001b[1m1146s\u001b[0m 5s/step - accuracy: 0.4061 - loss: 1.6434 - val_accuracy: 0.5025 - val_loss: 1.4650\n",
      "\n",
      "📊 Evaluating on test data...\n",
      "\u001b[1m63/63\u001b[0m \u001b[32m━━━━━━━━━━━━━━━━━━━━\u001b[0m\u001b[37m\u001b[0m \u001b[1m241s\u001b[0m 4s/step - accuracy: 0.4996 - loss: 1.4818\n"
     ]
    },
    {
     "name": "stderr",
     "output_type": "stream",
     "text": [
      "WARNING:absl:You are saving your model as an HDF5 file via `model.save()` or `keras.saving.save_model(model)`. This file format is considered legacy. We recommend using instead the native Keras format, e.g. `model.save('my_model.keras')` or `keras.saving.save_model(model, 'my_model.keras')`. \n"
     ]
    },
    {
     "name": "stdout",
     "output_type": "stream",
     "text": [
      "\n",
      "✅ Test Loss: 1.4650 | Test Accuracy: 50.25%\n"
     ]
    }
   ],
   "source": [
    "from tensorflow.keras.preprocessing.image import ImageDataGenerator\n",
    "\n",
    "# Only rescaling, no splitting\n",
    "datagen = ImageDataGenerator(rescale=1./255)\n",
    "\n",
    "# Training data (use all images)\n",
    "train_data = datagen.flow_from_directory(\n",
    "    '/hpcstor6/scratch01/h/huuthanhvy.nguyen001/diffusion/Final/10x_dataset/trainning/google_dataset_8000',\n",
    "    target_size=(32, 32),\n",
    "    batch_size=32,\n",
    "    class_mode='categorical'\n",
    ")\n",
    "\n",
    "# Testing data (use all images)\n",
    "test_data = datagen.flow_from_directory(\n",
    "    '/hpcstor6/scratch01/h/huuthanhvy.nguyen001/diffusion/Final/10x_dataset/testing/google_dataset_2000',\n",
    "    target_size=(32, 32),\n",
    "    batch_size=32,\n",
    "    class_mode='categorical'\n",
    ")\n",
    "\n",
    "import sys\n",
    "\n",
    "sys.path.append('/hpcstor6/scratch01/h/huuthanhvy.nguyen001/diffusion/Final')\n",
    "\n",
    "from scratch import train_student_from_scratch\n",
    "\n",
    "Scratchmodel = \"10x_dataset_google\"\n",
    "\n",
    "model_path = \"/hpcstor6/scratch01/h/huuthanhvy.nguyen001/diffusion/Final/student_model.h5\"\n",
    "\n",
    "history, eval_results = train_student_from_scratch(\n",
    "    model_path=model_path,\n",
    "    train_data=train_data,\n",
    "    test_data=test_data,\n",
    "    model_save_name=Scratchmodel\n",
    ")"
   ]
  },
  {
   "cell_type": "code",
   "execution_count": 2,
   "metadata": {},
   "outputs": [
    {
     "name": "stderr",
     "output_type": "stream",
     "text": [
      "WARNING:absl:No training configuration found in the save file, so the model was *not* compiled. Compile it manually.\n",
      "WARNING:absl:Compiled the loaded model, but the compiled metrics have yet to be built. `model.compile_metrics` will be empty until you train or evaluate the model.\n"
     ]
    },
    {
     "name": "stdout",
     "output_type": "stream",
     "text": [
      "Epoch 1/7\n",
      "\u001b[1m250/250\u001b[0m \u001b[32m━━━━━━━━━━━━━━━━━━━━\u001b[0m\u001b[37m\u001b[0m \u001b[1m1147s\u001b[0m 5s/step - categorical_accuracy: 0.1786 - loss: 2.2618 - val_categorical_accuracy: 0.2960 - val_loss: 2.1771\n",
      "Epoch 2/7\n",
      "\u001b[1m250/250\u001b[0m \u001b[32m━━━━━━━━━━━━━━━━━━━━\u001b[0m\u001b[37m\u001b[0m \u001b[1m1140s\u001b[0m 5s/step - categorical_accuracy: 0.3393 - loss: 2.1964 - val_categorical_accuracy: 0.4360 - val_loss: 2.1490\n",
      "Epoch 3/7\n",
      "\u001b[1m250/250\u001b[0m \u001b[32m━━━━━━━━━━━━━━━━━━━━\u001b[0m\u001b[37m\u001b[0m \u001b[1m1144s\u001b[0m 5s/step - categorical_accuracy: 0.3992 - loss: 2.1716 - val_categorical_accuracy: 0.4780 - val_loss: 2.1310\n",
      "Epoch 4/7\n",
      "\u001b[1m250/250\u001b[0m \u001b[32m━━━━━━━━━━━━━━━━━━━━\u001b[0m\u001b[37m\u001b[0m \u001b[1m1141s\u001b[0m 5s/step - categorical_accuracy: 0.4556 - loss: 2.1455 - val_categorical_accuracy: 0.4940 - val_loss: 2.1281\n",
      "Epoch 5/7\n",
      "\u001b[1m250/250\u001b[0m \u001b[32m━━━━━━━━━━━━━━━━━━━━\u001b[0m\u001b[37m\u001b[0m \u001b[1m1141s\u001b[0m 5s/step - categorical_accuracy: 0.5315 - loss: 2.1159 - val_categorical_accuracy: 0.5400 - val_loss: 2.1044\n",
      "Epoch 6/7\n",
      "\u001b[1m250/250\u001b[0m \u001b[32m━━━━━━━━━━━━━━━━━━━━\u001b[0m\u001b[37m\u001b[0m \u001b[1m1145s\u001b[0m 5s/step - categorical_accuracy: 0.5724 - loss: 2.0905 - val_categorical_accuracy: 0.6300 - val_loss: 2.0615\n",
      "Epoch 7/7\n",
      "\u001b[1m250/250\u001b[0m \u001b[32m━━━━━━━━━━━━━━━━━━━━\u001b[0m\u001b[37m\u001b[0m \u001b[1m1161s\u001b[0m 5s/step - categorical_accuracy: 0.6543 - loss: 2.0526 - val_categorical_accuracy: 0.6585 - val_loss: 2.0592\n",
      "\u001b[1m63/63\u001b[0m \u001b[32m━━━━━━━━━━━━━━━━━━━━\u001b[0m\u001b[37m\u001b[0m \u001b[1m240s\u001b[0m 4s/step - categorical_accuracy: 0.6639 - loss: 2.0535\n"
     ]
    },
    {
     "name": "stderr",
     "output_type": "stream",
     "text": [
      "WARNING:absl:You are saving your model as an HDF5 file via `model.save()` or `keras.saving.save_model(model)`. This file format is considered legacy. We recommend using instead the native Keras format, e.g. `model.save('my_model.keras')` or `keras.saving.save_model(model, 'my_model.keras')`. \n"
     ]
    }
   ],
   "source": [
    "import sys\n",
    "\n",
    "sys.path.append('/hpcstor6/scratch01/h/huuthanhvy.nguyen001/diffusion/Final')\n",
    "\n",
    "from kd import kd\n",
    "\n",
    "distillmodel = \"10x_dataset_distill_google\"\n",
    "\n",
    "distiller, history, evaluation = kd(train_data, test_data, model_save_name=distillmodel)"
   ]
  },
  {
   "cell_type": "markdown",
   "metadata": {},
   "source": [
    "## 2: GA (Medium Difuser)"
   ]
  },
  {
   "cell_type": "code",
   "execution_count": 3,
   "metadata": {},
   "outputs": [
    {
     "name": "stdout",
     "output_type": "stream",
     "text": [
      "Found 8000 images belonging to 10 classes.\n",
      "Found 2000 images belonging to 10 classes.\n"
     ]
    }
   ],
   "source": [
    "from tensorflow.keras.preprocessing.image import ImageDataGenerator\n",
    "\n",
    "# Only rescaling, no splitting\n",
    "datagen = ImageDataGenerator(rescale=1./255)\n",
    "\n",
    "# Training data (use all images)\n",
    "train_data = datagen.flow_from_directory(\n",
    "    '/hpcstor6/scratch01/h/huuthanhvy.nguyen001/diffusion/Final/10x_dataset/ai_generated_images_8000_diffusers',\n",
    "    target_size=(32, 32),\n",
    "    batch_size=32,\n",
    "    class_mode='categorical'\n",
    ")\n",
    "\n",
    "# Testing data (use all images)\n",
    "test_data = datagen.flow_from_directory(\n",
    "    '/hpcstor6/scratch01/h/huuthanhvy.nguyen001/diffusion/Final/10x_dataset/testing/google_dataset_2000',\n",
    "    target_size=(32, 32),\n",
    "    batch_size=32,\n",
    "    class_mode='categorical'\n",
    ")\n",
    "\n"
   ]
  },
  {
   "cell_type": "code",
   "execution_count": 4,
   "metadata": {},
   "outputs": [
    {
     "name": "stderr",
     "output_type": "stream",
     "text": [
      "WARNING:absl:No training configuration found in the save file, so the model was *not* compiled. Compile it manually.\n"
     ]
    },
    {
     "name": "stdout",
     "output_type": "stream",
     "text": [
      "🚀 Training student model from scratch...\n",
      "Epoch 1/7\n",
      "\u001b[1m250/250\u001b[0m \u001b[32m━━━━━━━━━━━━━━━━━━━━\u001b[0m\u001b[37m\u001b[0m \u001b[1m288s\u001b[0m 1s/step - accuracy: 0.2573 - loss: 2.5346 - val_accuracy: 0.1855 - val_loss: 2.9185\n",
      "Epoch 2/7\n",
      "\u001b[1m250/250\u001b[0m \u001b[32m━━━━━━━━━━━━━━━━━━━━\u001b[0m\u001b[37m\u001b[0m \u001b[1m275s\u001b[0m 1s/step - accuracy: 0.5064 - loss: 1.4410 - val_accuracy: 0.2670 - val_loss: 2.2380\n",
      "Epoch 3/7\n",
      "\u001b[1m250/250\u001b[0m \u001b[32m━━━━━━━━━━━━━━━━━━━━\u001b[0m\u001b[37m\u001b[0m \u001b[1m275s\u001b[0m 1s/step - accuracy: 0.5864 - loss: 1.1654 - val_accuracy: 0.3240 - val_loss: 2.0640\n",
      "Epoch 4/7\n",
      "\u001b[1m250/250\u001b[0m \u001b[32m━━━━━━━━━━━━━━━━━━━━\u001b[0m\u001b[37m\u001b[0m \u001b[1m275s\u001b[0m 1s/step - accuracy: 0.6167 - loss: 1.0727 - val_accuracy: 0.2885 - val_loss: 2.3300\n",
      "Epoch 5/7\n",
      "\u001b[1m250/250\u001b[0m \u001b[32m━━━━━━━━━━━━━━━━━━━━\u001b[0m\u001b[37m\u001b[0m \u001b[1m277s\u001b[0m 1s/step - accuracy: 0.6666 - loss: 0.9333 - val_accuracy: 0.3145 - val_loss: 2.2408\n",
      "Epoch 6/7\n",
      "\u001b[1m250/250\u001b[0m \u001b[32m━━━━━━━━━━━━━━━━━━━━\u001b[0m\u001b[37m\u001b[0m \u001b[1m274s\u001b[0m 1s/step - accuracy: 0.7145 - loss: 0.8275 - val_accuracy: 0.2940 - val_loss: 2.4160\n",
      "Epoch 7/7\n",
      "\u001b[1m250/250\u001b[0m \u001b[32m━━━━━━━━━━━━━━━━━━━━\u001b[0m\u001b[37m\u001b[0m \u001b[1m277s\u001b[0m 1s/step - accuracy: 0.7271 - loss: 0.7697 - val_accuracy: 0.2605 - val_loss: 2.5541\n",
      "\n",
      "📊 Evaluating on test data...\n",
      "\u001b[1m63/63\u001b[0m \u001b[32m━━━━━━━━━━━━━━━━━━━━\u001b[0m\u001b[37m\u001b[0m \u001b[1m243s\u001b[0m 4s/step - accuracy: 0.2622 - loss: 2.5773\n"
     ]
    },
    {
     "name": "stderr",
     "output_type": "stream",
     "text": [
      "WARNING:absl:You are saving your model as an HDF5 file via `model.save()` or `keras.saving.save_model(model)`. This file format is considered legacy. We recommend using instead the native Keras format, e.g. `model.save('my_model.keras')` or `keras.saving.save_model(model, 'my_model.keras')`. \n"
     ]
    },
    {
     "name": "stdout",
     "output_type": "stream",
     "text": [
      "\n",
      "✅ Test Loss: 2.5541 | Test Accuracy: 26.05%\n"
     ]
    }
   ],
   "source": [
    "import sys\n",
    "\n",
    "sys.path.append('/hpcstor6/scratch01/h/huuthanhvy.nguyen001/diffusion/Final')\n",
    "\n",
    "from scratch import train_student_from_scratch\n",
    "\n",
    "Scratchmodel = \"10x_dataset_google\"\n",
    "\n",
    "model_path = \"/hpcstor6/scratch01/h/huuthanhvy.nguyen001/diffusion/Final/student_model.h5\"\n",
    "\n",
    "history, eval_results = train_student_from_scratch(\n",
    "    model_path=model_path,\n",
    "    train_data=train_data,\n",
    "    test_data=test_data,\n",
    "    model_save_name=Scratchmodel\n",
    ")"
   ]
  },
  {
   "cell_type": "code",
   "execution_count": 5,
   "metadata": {},
   "outputs": [
    {
     "name": "stderr",
     "output_type": "stream",
     "text": [
      "WARNING:absl:No training configuration found in the save file, so the model was *not* compiled. Compile it manually.\n",
      "WARNING:absl:Compiled the loaded model, but the compiled metrics have yet to be built. `model.compile_metrics` will be empty until you train or evaluate the model.\n"
     ]
    },
    {
     "name": "stdout",
     "output_type": "stream",
     "text": [
      "Epoch 1/7\n",
      "\u001b[1m250/250\u001b[0m \u001b[32m━━━━━━━━━━━━━━━━━━━━\u001b[0m\u001b[37m\u001b[0m \u001b[1m287s\u001b[0m 1s/step - categorical_accuracy: 0.2792 - loss: 2.2220 - val_categorical_accuracy: 0.3310 - val_loss: 2.2513\n",
      "Epoch 2/7\n",
      "\u001b[1m250/250\u001b[0m \u001b[32m━━━━━━━━━━━━━━━━━━━━\u001b[0m\u001b[37m\u001b[0m \u001b[1m277s\u001b[0m 1s/step - categorical_accuracy: 0.6843 - loss: 2.0385 - val_categorical_accuracy: 0.2955 - val_loss: 2.3043\n",
      "Epoch 3/7\n",
      "\u001b[1m250/250\u001b[0m \u001b[32m━━━━━━━━━━━━━━━━━━━━\u001b[0m\u001b[37m\u001b[0m \u001b[1m275s\u001b[0m 1s/step - categorical_accuracy: 0.7929 - loss: 1.9873 - val_categorical_accuracy: 0.2950 - val_loss: 2.3300\n",
      "Epoch 4/7\n",
      "\u001b[1m250/250\u001b[0m \u001b[32m━━━━━━━━━━━━━━━━━━━━\u001b[0m\u001b[37m\u001b[0m \u001b[1m277s\u001b[0m 1s/step - categorical_accuracy: 0.8608 - loss: 1.9544 - val_categorical_accuracy: 0.3260 - val_loss: 2.3704\n",
      "Epoch 5/7\n",
      "\u001b[1m250/250\u001b[0m \u001b[32m━━━━━━━━━━━━━━━━━━━━\u001b[0m\u001b[37m\u001b[0m \u001b[1m274s\u001b[0m 1s/step - categorical_accuracy: 0.9186 - loss: 1.9267 - val_categorical_accuracy: 0.3285 - val_loss: 2.3755\n",
      "Epoch 6/7\n",
      "\u001b[1m250/250\u001b[0m \u001b[32m━━━━━━━━━━━━━━━━━━━━\u001b[0m\u001b[37m\u001b[0m \u001b[1m279s\u001b[0m 1s/step - categorical_accuracy: 0.9410 - loss: 1.9151 - val_categorical_accuracy: 0.2920 - val_loss: 2.4657\n",
      "Epoch 7/7\n",
      "\u001b[1m250/250\u001b[0m \u001b[32m━━━━━━━━━━━━━━━━━━━━\u001b[0m\u001b[37m\u001b[0m \u001b[1m279s\u001b[0m 1s/step - categorical_accuracy: 0.9552 - loss: 1.9095 - val_categorical_accuracy: 0.3265 - val_loss: 2.5703\n",
      "\u001b[1m63/63\u001b[0m \u001b[32m━━━━━━━━━━━━━━━━━━━━\u001b[0m\u001b[37m\u001b[0m \u001b[1m245s\u001b[0m 4s/step - categorical_accuracy: 0.3319 - loss: 2.5610\n"
     ]
    },
    {
     "name": "stderr",
     "output_type": "stream",
     "text": [
      "WARNING:absl:You are saving your model as an HDF5 file via `model.save()` or `keras.saving.save_model(model)`. This file format is considered legacy. We recommend using instead the native Keras format, e.g. `model.save('my_model.keras')` or `keras.saving.save_model(model, 'my_model.keras')`. \n"
     ]
    }
   ],
   "source": [
    "import sys\n",
    "\n",
    "sys.path.append('/hpcstor6/scratch01/h/huuthanhvy.nguyen001/diffusion/Final')\n",
    "\n",
    "from kd import kd\n",
    "\n",
    "distillmodel = \"10x_dataset_distill_staple_diffusers_diffuser_3\"\n",
    "\n",
    "distiller, history, evaluation = kd(train_data, test_data, model_save_name=distillmodel)"
   ]
  },
  {
   "cell_type": "markdown",
   "metadata": {},
   "source": [
    "Final Evaluation Results:\n",
    "Test Loss: 2.5602\n",
    "Test Accuracy: 32.90%\n"
   ]
  }
 ],
 "metadata": {
  "kernelspec": {
   "display_name": "sbatch2",
   "language": "python",
   "name": "python3"
  },
  "language_info": {
   "codemirror_mode": {
    "name": "ipython",
    "version": 3
   },
   "file_extension": ".py",
   "mimetype": "text/x-python",
   "name": "python",
   "nbconvert_exporter": "python",
   "pygments_lexer": "ipython3",
   "version": "3.10.13"
  }
 },
 "nbformat": 4,
 "nbformat_minor": 2
}
