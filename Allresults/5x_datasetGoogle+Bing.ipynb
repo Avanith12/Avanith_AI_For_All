{
 "cells": [
  {
   "cell_type": "code",
   "execution_count": 1,
   "id": "5c946cfb",
   "metadata": {},
   "outputs": [],
   "source": [
    "# IMPORTS\n",
    "\n",
    "import tensorflow as tf\n",
    "import numpy as np\n",
    "from tensorflow import keras\n",
    "from keras import layers, models\n",
    "import matplotlib.pyplot as plt\n",
    "from keras.datasets import cifar10\n",
    "from keras.utils import to_categorical\n",
    "from keras import metrics, losses\n",
    "from keras.models import load_model\n",
    "import os\n",
    "import random\n",
    "from PIL import Image\n"
   ]
  },
  {
   "cell_type": "code",
   "execution_count": 2,
   "id": "5aa375ec",
   "metadata": {},
   "outputs": [
    {
     "name": "stderr",
     "output_type": "stream",
     "text": [
      "WARNING:absl:No training configuration found in the save file, so the model was *not* compiled. Compile it manually.\n",
      "WARNING:absl:No training configuration found in the save file, so the model was *not* compiled. Compile it manually.\n",
      "WARNING:absl:Compiled the loaded model, but the compiled metrics have yet to be built. `model.compile_metrics` will be empty until you train or evaluate the model.\n"
     ]
    }
   ],
   "source": [
    "# Load both the teacher and student model\n",
    "scratch_student = load_model('student_model.h5')\n",
    "student_model = load_model('student_model.h5')\n",
    "teacher_model = load_model('teacher_model.h5')\n"
   ]
  },
  {
   "cell_type": "code",
   "execution_count": 7,
   "id": "97c56136",
   "metadata": {},
   "outputs": [
    {
     "name": "stdout",
     "output_type": "stream",
     "text": [
      "Found 700 images for class 'airplane' in Google\n",
      "✅ Processed class from Google: airplane\n",
      "Found 666 images for class 'automobile' in Google\n",
      "✅ Processed class from Google: automobile\n",
      "Found 632 images for class 'bird' in Google\n",
      "✅ Processed class from Google: bird\n",
      "Found 665 images for class 'cat' in Google\n",
      "✅ Processed class from Google: cat\n",
      "Found 700 images for class 'deer' in Google\n",
      "✅ Processed class from Google: deer\n",
      "Found 700 images for class 'dog' in Google\n",
      "✅ Processed class from Google: dog\n",
      "Found 666 images for class 'frog' in Google\n"
     ]
    },
    {
     "name": "stderr",
     "output_type": "stream",
     "text": [
      "c:\\Users\\kanam\\Miniconda3\\envs\\myenv\\lib\\site-packages\\PIL\\Image.py:1043: UserWarning: Palette images with Transparency expressed in bytes should be converted to RGBA images\n",
      "  warnings.warn(\n"
     ]
    },
    {
     "name": "stdout",
     "output_type": "stream",
     "text": [
      "✅ Processed class from Google: frog\n",
      "Found 687 images for class 'horse' in Google\n",
      "✅ Processed class from Google: horse\n",
      "Found 700 images for class 'ship' in Google\n",
      "✅ Processed class from Google: ship\n",
      "Found 666 images for class 'truck' in Google\n",
      "✅ Processed class from Google: truck\n",
      "✅ Processed class from Bing: airplane\n",
      "✅ Processed class from Bing: automobile\n",
      "✅ Processed class from Bing: bird\n",
      "✅ Processed class from Bing: cat\n",
      "✅ Processed class from Bing: deer\n",
      "✅ Processed class from Bing: dog\n",
      "✅ Processed class from Bing: frog\n",
      "✅ Processed class from Bing: horse\n",
      "✅ Processed class from Bing: ship\n",
      "✅ Processed class from Bing: truck\n",
      "✅ Training set: (4000, 32, 32, 3), labels: (4000, 10)\n",
      "✅ Testing set: (1000, 32, 32, 3), labels: (1000, 10)\n"
     ]
    }
   ],
   "source": [
    "# Compute student model metrics without KD\n",
    "\n",
    "img_height = 32\n",
    "img_width = 32\n",
    "\n",
    "google_dir = \"google_images(3500)/raw\"\n",
    "bing_dir = \"bing_images(10000)/raw\"\n",
    "valid_exts = {'.jpg', '.jpeg', '.png', '.bmp', '.gif'}\n",
    "\n",
    "classes = sorted(os.listdir(google_dir))\n",
    "class_indices = {cls: idx for idx, cls in enumerate(classes)}\n",
    "\n",
    "X_train, y_train, X_test, y_test = [], [], [], []\n",
    "\n",
    "# ✅ Load from GOOGLE (recursively)\n",
    "for cls in classes:\n",
    "    cls_path = os.path.join(google_dir, cls)\n",
    "    image_paths = []\n",
    "    for root, _, files in os.walk(cls_path):\n",
    "        for f in files:\n",
    "            if os.path.splitext(f)[1].lower() in valid_exts:\n",
    "                image_paths.append(os.path.join(root, f))\n",
    "\n",
    "    print(f\"Found {len(image_paths)} images for class '{cls}' in Google\")\n",
    "\n",
    "    if len(image_paths) < 250:\n",
    "        print(f\"⚠️ Skipping {cls} from Google — only {len(image_paths)} found\")\n",
    "        continue\n",
    "\n",
    "    selected = random.sample(image_paths, 250)\n",
    "    train_imgs = selected[:200]\n",
    "    test_imgs = selected[200:]\n",
    "\n",
    "    for path in train_imgs:\n",
    "        try:\n",
    "            img = Image.open(path).convert(\"RGB\").resize((img_width, img_height))\n",
    "            X_train.append(np.array(img))\n",
    "            y_train.append(class_indices[cls])\n",
    "        except:\n",
    "            print(f\"⚠️ Skipped train image (Google): {path}\")\n",
    "\n",
    "    for path in test_imgs:\n",
    "        try:\n",
    "            img = Image.open(path).convert(\"RGB\").resize((img_width, img_height))\n",
    "            X_test.append(np.array(img))\n",
    "            y_test.append(class_indices[cls])\n",
    "        except:\n",
    "            print(f\"⚠️ Skipped test image (Google): {path}\")\n",
    "\n",
    "    print(f\"✅ Processed class from Google: {cls}\")\n",
    "\n",
    "# ✅ Load from BING (recursive as before)\n",
    "for cls in classes:\n",
    "    cls_path = os.path.join(bing_dir, cls)\n",
    "    image_paths = []\n",
    "    for root, _, files in os.walk(cls_path):\n",
    "        for f in files:\n",
    "            if os.path.splitext(f)[1].lower() in valid_exts:\n",
    "                image_paths.append(os.path.join(root, f))\n",
    "\n",
    "    if len(image_paths) < 250:\n",
    "        print(f\"⚠️ Skipping {cls} from Bing — only {len(image_paths)} found\")\n",
    "        continue\n",
    "\n",
    "    selected = random.sample(image_paths, 250)\n",
    "    train_imgs = selected[:200]\n",
    "    test_imgs = selected[200:]\n",
    "\n",
    "    for path in train_imgs:\n",
    "        try:\n",
    "            img = Image.open(path).convert(\"RGB\").resize((img_width, img_height))\n",
    "            X_train.append(np.array(img))\n",
    "            y_train.append(class_indices[cls])\n",
    "        except:\n",
    "            print(f\"⚠️ Skipped train image (Bing): {path}\")\n",
    "\n",
    "    for path in test_imgs:\n",
    "        try:\n",
    "            img = Image.open(path).convert(\"RGB\").resize((img_width, img_height))\n",
    "            X_test.append(np.array(img))\n",
    "            y_test.append(class_indices[cls])\n",
    "        except:\n",
    "            print(f\"⚠️ Skipped test image (Bing): {path}\")\n",
    "\n",
    "    print(f\"✅ Processed class from Bing: {cls}\")\n",
    "\n",
    "# ✅ Final conversion\n",
    "X_train = np.array(X_train).astype('float32') / 255.0\n",
    "X_test = np.array(X_test).astype('float32') / 255.0\n",
    "y_train = np.array(y_train)\n",
    "y_test = np.array(y_test)\n",
    "\n",
    "train_labels = to_categorical(y_train, num_classes=10)\n",
    "test_labels = to_categorical(y_test, num_classes=10)\n",
    "\n",
    "print(f\"✅ Training set: {X_train.shape}, labels: {train_labels.shape}\")\n",
    "print(f\"✅ Testing set: {X_test.shape}, labels: {test_labels.shape}\")\n"
   ]
  },
  {
   "cell_type": "code",
   "execution_count": 8,
   "id": "91dff471",
   "metadata": {},
   "outputs": [],
   "source": [
    "# Compute student model metrics without KD\n",
    "\n",
    "scratch_student.compile(optimizer='sgd',\n",
    "              loss='categorical_crossentropy',\n",
    "              metrics=['accuracy'])\n"
   ]
  },
  {
   "cell_type": "code",
   "execution_count": 9,
   "id": "6b08a09b",
   "metadata": {},
   "outputs": [
    {
     "name": "stdout",
     "output_type": "stream",
     "text": [
      "Epoch 1/7\n",
      "\u001b[1m125/125\u001b[0m \u001b[32m━━━━━━━━━━━━━━━━━━━━\u001b[0m\u001b[37m\u001b[0m \u001b[1m6s\u001b[0m 31ms/step - accuracy: 0.1541 - loss: 3.0347\n",
      "Epoch 2/7\n",
      "\u001b[1m125/125\u001b[0m \u001b[32m━━━━━━━━━━━━━━━━━━━━\u001b[0m\u001b[37m\u001b[0m \u001b[1m6s\u001b[0m 50ms/step - accuracy: 0.2417 - loss: 2.2901\n",
      "Epoch 3/7\n",
      "\u001b[1m125/125\u001b[0m \u001b[32m━━━━━━━━━━━━━━━━━━━━\u001b[0m\u001b[37m\u001b[0m \u001b[1m8s\u001b[0m 63ms/step - accuracy: 0.2710 - loss: 2.1180\n",
      "Epoch 4/7\n",
      "\u001b[1m125/125\u001b[0m \u001b[32m━━━━━━━━━━━━━━━━━━━━\u001b[0m\u001b[37m\u001b[0m \u001b[1m8s\u001b[0m 61ms/step - accuracy: 0.3178 - loss: 1.9501\n",
      "Epoch 5/7\n",
      "\u001b[1m125/125\u001b[0m \u001b[32m━━━━━━━━━━━━━━━━━━━━\u001b[0m\u001b[37m\u001b[0m \u001b[1m4s\u001b[0m 32ms/step - accuracy: 0.3043 - loss: 1.9643\n",
      "Epoch 6/7\n",
      "\u001b[1m125/125\u001b[0m \u001b[32m━━━━━━━━━━━━━━━━━━━━\u001b[0m\u001b[37m\u001b[0m \u001b[1m4s\u001b[0m 36ms/step - accuracy: 0.3698 - loss: 1.8130\n",
      "Epoch 7/7\n",
      "\u001b[1m125/125\u001b[0m \u001b[32m━━━━━━━━━━━━━━━━━━━━\u001b[0m\u001b[37m\u001b[0m \u001b[1m3s\u001b[0m 25ms/step - accuracy: 0.3476 - loss: 1.8572\n"
     ]
    },
    {
     "data": {
      "text/plain": [
       "<keras.src.callbacks.history.History at 0x267dcef3a00>"
      ]
     },
     "execution_count": 9,
     "metadata": {},
     "output_type": "execute_result"
    }
   ],
   "source": [
    "# First, let us try to see what if we directly train the student model without using knowledge distillation\n",
    "\n",
    "scratch_student.fit(X_train, train_labels, epochs=7, batch_size=32)\n"
   ]
  },
  {
   "cell_type": "code",
   "execution_count": 10,
   "id": "badec925",
   "metadata": {},
   "outputs": [
    {
     "name": "stdout",
     "output_type": "stream",
     "text": [
      "\u001b[1m32/32\u001b[0m \u001b[32m━━━━━━━━━━━━━━━━━━━━\u001b[0m\u001b[37m\u001b[0m \u001b[1m1s\u001b[0m 17ms/step - accuracy: 0.3835 - loss: 1.6962\n"
     ]
    },
    {
     "data": {
      "text/plain": [
       "[1.7730858325958252, 0.3919999897480011]"
      ]
     },
     "execution_count": 10,
     "metadata": {},
     "output_type": "execute_result"
    }
   ],
   "source": [
    "# We evaluate student model for its loss and accuracy, if the student model is trained without using knowledge distillation\n",
    "\n",
    "scratch_student.evaluate(X_test, test_labels)\n"
   ]
  },
  {
   "cell_type": "code",
   "execution_count": 11,
   "id": "10a13113",
   "metadata": {},
   "outputs": [],
   "source": [
    "# Now let us try using knowledge distillation\n",
    "# KNOWLEDGE DISTILLATION CLASS, You can adjust alpha based on how much you want the student to learn from the teacher\n",
    "\n",
    "class Distiller(keras.Model):\n",
    "    def __init__(self, student, teacher):\n",
    "        super().__init__()\n",
    "        self.teacher = teacher\n",
    "        self.student = student\n",
    "\n",
    "    def compile(\n",
    "        self,\n",
    "        optimizer,\n",
    "        metrics,\n",
    "        student_loss_fn,\n",
    "        distillation_loss_fn,\n",
    "        alpha=0.2,\n",
    "        temperature=3,\n",
    "    ):\n",
    "        super().compile(optimizer=optimizer, metrics=metrics)\n",
    "        self.student_loss_fn = student_loss_fn\n",
    "        self.distillation_loss_fn = distillation_loss_fn\n",
    "        self.alpha = alpha\n",
    "        self.temperature = temperature\n",
    "\n",
    "    def compute_loss(\n",
    "        self, x=None, y=None, y_pred=None, sample_weight=None, allow_empty=False\n",
    "    ):\n",
    "        teacher_pred = self.teacher(x, training=False)\n",
    "        student_loss = self.student_loss_fn(y, y_pred)\n",
    "\n",
    "        distillation_loss = self.distillation_loss_fn(\n",
    "            tf.nn.softmax(teacher_pred / self.temperature, axis=1),\n",
    "            tf.nn.softmax(y_pred / self.temperature, axis=1),\n",
    "        ) * (self.temperature**2)\n",
    "\n",
    "        loss = self.alpha * student_loss + (1 - self.alpha) * distillation_loss\n",
    "        return loss\n",
    "\n",
    "    def call(self, x):\n",
    "        return self.student(x)\n"
   ]
  },
  {
   "cell_type": "code",
   "execution_count": 12,
   "id": "2eafbb7e",
   "metadata": {},
   "outputs": [
    {
     "name": "stdout",
     "output_type": "stream",
     "text": [
      "Epoch 1/7\n",
      "\u001b[1m100/100\u001b[0m \u001b[32m━━━━━━━━━━━━━━━━━━━━\u001b[0m\u001b[37m\u001b[0m \u001b[1m10s\u001b[0m 46ms/step - categorical_accuracy: 0.1542 - loss: 2.2820 - val_categorical_accuracy: 0.0587 - val_loss: 2.2951\n",
      "Epoch 2/7\n",
      "\u001b[1m100/100\u001b[0m \u001b[32m━━━━━━━━━━━━━━━━━━━━\u001b[0m\u001b[37m\u001b[0m \u001b[1m5s\u001b[0m 52ms/step - categorical_accuracy: 0.2806 - loss: 2.2242 - val_categorical_accuracy: 0.1125 - val_loss: 2.3188\n",
      "Epoch 3/7\n",
      "\u001b[1m100/100\u001b[0m \u001b[32m━━━━━━━━━━━━━━━━━━━━\u001b[0m\u001b[37m\u001b[0m \u001b[1m5s\u001b[0m 45ms/step - categorical_accuracy: 0.3083 - loss: 2.2058 - val_categorical_accuracy: 0.2175 - val_loss: 2.3005\n",
      "Epoch 4/7\n",
      "\u001b[1m100/100\u001b[0m \u001b[32m━━━━━━━━━━━━━━━━━━━━\u001b[0m\u001b[37m\u001b[0m \u001b[1m5s\u001b[0m 48ms/step - categorical_accuracy: 0.3713 - loss: 2.1839 - val_categorical_accuracy: 0.2138 - val_loss: 2.3191\n",
      "Epoch 5/7\n",
      "\u001b[1m100/100\u001b[0m \u001b[32m━━━━━━━━━━━━━━━━━━━━\u001b[0m\u001b[37m\u001b[0m \u001b[1m4s\u001b[0m 43ms/step - categorical_accuracy: 0.4050 - loss: 2.1592 - val_categorical_accuracy: 0.1925 - val_loss: 2.3645\n",
      "Epoch 6/7\n",
      "\u001b[1m100/100\u001b[0m \u001b[32m━━━━━━━━━━━━━━━━━━━━\u001b[0m\u001b[37m\u001b[0m \u001b[1m5s\u001b[0m 45ms/step - categorical_accuracy: 0.4840 - loss: 2.1277 - val_categorical_accuracy: 0.1800 - val_loss: 2.3766\n",
      "Epoch 7/7\n",
      "\u001b[1m100/100\u001b[0m \u001b[32m━━━━━━━━━━━━━━━━━━━━\u001b[0m\u001b[37m\u001b[0m \u001b[1m4s\u001b[0m 43ms/step - categorical_accuracy: 0.5334 - loss: 2.1083 - val_categorical_accuracy: 0.2250 - val_loss: 2.3341\n"
     ]
    }
   ],
   "source": [
    "# Initialize the distiller\n",
    "# Train the student model using knowledge distillation\n",
    "\n",
    "distiller = Distiller(student=student_model, teacher=teacher_model)\n",
    "\n",
    "# Compiling the Distiller. You can adjust alpha based on how much you want the student to learn from the teacher\n",
    "distiller.compile(\n",
    "    optimizer=keras.optimizers.Adam(),\n",
    "    metrics=[metrics.CategoricalAccuracy()],\n",
    "    student_loss_fn=losses.CategoricalCrossentropy(),\n",
    "    distillation_loss_fn=losses.CategoricalCrossentropy(),\n",
    "    alpha=0.2,\n",
    "    temperature=1,\n",
    ")\n",
    "\n",
    "# Fitting the student model receiving KD\n",
    "history = distiller.fit(\n",
    "    X_train,\n",
    "    train_labels,\n",
    "    epochs=7,\n",
    "    batch_size=32,\n",
    "    validation_split=0.2,\n",
    ")\n"
   ]
  },
  {
   "cell_type": "code",
   "execution_count": 13,
   "id": "4df7580f",
   "metadata": {},
   "outputs": [
    {
     "name": "stdout",
     "output_type": "stream",
     "text": [
      "\u001b[1m32/32\u001b[0m \u001b[32m━━━━━━━━━━━━━━━━━━━━\u001b[0m\u001b[37m\u001b[0m \u001b[1m1s\u001b[0m 20ms/step - categorical_accuracy: 0.4595 - loss: 2.1612\n"
     ]
    },
    {
     "data": {
      "text/plain": [
       "[2.21030592918396, 0.38199999928474426]"
      ]
     },
     "execution_count": 13,
     "metadata": {},
     "output_type": "execute_result"
    }
   ],
   "source": [
    "# We evaluate student model again for its loss and accuracy,\n",
    "# But this time the student model is trained using knowledge distillation\n",
    "# You can compare this results with the results above\n",
    "\n",
    "distiller.evaluate(X_test, test_labels)\n"
   ]
  },
  {
   "cell_type": "code",
   "execution_count": null,
   "id": "23f99aae",
   "metadata": {},
   "outputs": [],
   "source": []
  }
 ],
 "metadata": {
  "kernelspec": {
   "display_name": "Python 3",
   "language": "python",
   "name": "python3"
  },
  "language_info": {
   "codemirror_mode": {
    "name": "ipython",
    "version": 3
   },
   "file_extension": ".py",
   "mimetype": "text/x-python",
   "name": "python",
   "nbconvert_exporter": "python",
   "pygments_lexer": "ipython3",
   "version": "3.10.16"
  }
 },
 "nbformat": 4,
 "nbformat_minor": 5
}
