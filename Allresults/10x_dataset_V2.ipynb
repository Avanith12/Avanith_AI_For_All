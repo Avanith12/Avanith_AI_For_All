{
 "cells": [
  {
   "cell_type": "code",
   "execution_count": 1,
   "id": "06b3c637",
   "metadata": {},
   "outputs": [],
   "source": [
    "# IMPORTS\n",
    "\n",
    "import tensorflow as tf\n",
    "import numpy as np\n",
    "from tensorflow import keras\n",
    "from keras import layers, models\n",
    "import matplotlib.pyplot as plt\n",
    "from keras.datasets import cifar10\n",
    "from keras.utils import to_categorical\n",
    "from keras import metrics, losses\n",
    "from keras.models import load_model\n",
    "import os\n",
    "import random\n",
    "from PIL import Image\n"
   ]
  },
  {
   "cell_type": "code",
   "execution_count": 2,
   "id": "2ca812e3",
   "metadata": {},
   "outputs": [
    {
     "name": "stderr",
     "output_type": "stream",
     "text": [
      "WARNING:absl:No training configuration found in the save file, so the model was *not* compiled. Compile it manually.\n",
      "WARNING:absl:No training configuration found in the save file, so the model was *not* compiled. Compile it manually.\n",
      "WARNING:absl:Compiled the loaded model, but the compiled metrics have yet to be built. `model.compile_metrics` will be empty until you train or evaluate the model.\n"
     ]
    }
   ],
   "source": [
    "# Load both the teacher and student model\n",
    "scratch_student = load_model('student_model.h5')\n",
    "student_model = load_model('student_model.h5')\n",
    "teacher_model = load_model('teacher_model.h5')\n"
   ]
  },
  {
   "cell_type": "code",
   "execution_count": 3,
   "id": "ba1644c6",
   "metadata": {},
   "outputs": [
    {
     "name": "stdout",
     "output_type": "stream",
     "text": [
      "✅ Processed train class: airplane\n",
      "✅ Processed train class: automobile\n",
      "✅ Processed train class: bird\n",
      "✅ Processed train class: cat\n",
      "✅ Processed train class: deer\n",
      "✅ Processed train class: dog\n",
      "✅ Processed train class: frog\n",
      "✅ Processed train class: horse\n",
      "✅ Processed train class: ship\n",
      "✅ Processed train class: truck\n",
      "✅ Processed test class: airplane\n",
      "✅ Processed test class: automobile\n",
      "✅ Processed test class: bird\n",
      "✅ Processed test class: cat\n",
      "✅ Processed test class: deer\n",
      "✅ Processed test class: dog\n",
      "✅ Processed test class: frog\n",
      "✅ Processed test class: horse\n",
      "✅ Processed test class: ship\n",
      "✅ Processed test class: truck\n",
      "✅ Training set: (8000, 32, 32, 3), labels: (8000, 10)\n",
      "✅ Testing set: (2000, 32, 32, 3), labels: (2000, 10)\n"
     ]
    }
   ],
   "source": [
    "# Compute student model metrics without KD\n",
    "\n",
    "img_height = 32\n",
    "img_width = 32\n",
    "\n",
    "# Paths\n",
    "train_data_dir = \"V2(10000)\"\n",
    "test_data_dir = \"bing_images(10000)/raw\"\n",
    "valid_exts = {'.jpg', '.jpeg', '.png', '.bmp', '.gif'}\n",
    "\n",
    "# Get class names\n",
    "classes = sorted(os.listdir(train_data_dir))\n",
    "class_indices = {cls: idx for idx, cls in enumerate(classes)}\n",
    "\n",
    "X_train, y_train, X_test, y_test = [], [], [], []\n",
    "\n",
    "# Load training images from V2(10000)\n",
    "for cls in classes:\n",
    "    cls_path = os.path.join(train_data_dir, cls)\n",
    "    image_files = [f for f in os.listdir(cls_path) if os.path.splitext(f)[1].lower() in valid_exts]\n",
    "\n",
    "    if len(image_files) < 800:\n",
    "        print(f\"⚠️ Skipping {cls} (train) — only {len(image_files)} images found\")\n",
    "        continue\n",
    "\n",
    "    selected = random.sample(image_files, 800)\n",
    "    for fname in selected:\n",
    "        img_path = os.path.join(cls_path, fname)\n",
    "        try:\n",
    "            img = Image.open(img_path).convert(\"RGB\").resize((img_width, img_height))\n",
    "            X_train.append(np.array(img))\n",
    "            y_train.append(class_indices[cls])\n",
    "        except:\n",
    "            print(f\"⚠️ Skipped train image: {img_path}\")\n",
    "    print(f\"✅ Processed train class: {cls}\")\n",
    "\n",
    "# Load testing images from bing_images(10000)/raw\n",
    "for cls in classes:\n",
    "    cls_path = os.path.join(test_data_dir, cls)\n",
    "\n",
    "    image_paths = []\n",
    "    for root, _, files in os.walk(cls_path):\n",
    "        for f in files:\n",
    "            if os.path.splitext(f)[1].lower() in valid_exts:\n",
    "                image_paths.append(os.path.join(root, f))\n",
    "\n",
    "    if len(image_paths) < 200:\n",
    "        print(f\"⚠️ Skipping {cls} (test) — only {len(image_paths)} images found\")\n",
    "        continue\n",
    "\n",
    "    selected = random.sample(image_paths, 200)\n",
    "    for img_path in selected:\n",
    "        try:\n",
    "            img = Image.open(img_path).convert(\"RGB\").resize((img_width, img_height))\n",
    "            X_test.append(np.array(img))\n",
    "            y_test.append(class_indices[cls])\n",
    "        except:\n",
    "            print(f\"⚠️ Skipped test image: {img_path}\")\n",
    "    print(f\"✅ Processed test class: {cls}\")\n",
    "\n",
    "# Convert and normalize\n",
    "X_train = np.array(X_train).astype('float32') / 255.0\n",
    "X_test = np.array(X_test).astype('float32') / 255.0\n",
    "y_train = np.array(y_train)\n",
    "y_test = np.array(y_test)\n",
    "\n",
    "train_labels = to_categorical(y_train, num_classes=10)\n",
    "test_labels = to_categorical(y_test, num_classes=10)\n",
    "\n",
    "print(f\"✅ Training set: {X_train.shape}, labels: {train_labels.shape}\")\n",
    "print(f\"✅ Testing set: {X_test.shape}, labels: {test_labels.shape}\")\n"
   ]
  },
  {
   "cell_type": "code",
   "execution_count": 4,
   "id": "1796d93f",
   "metadata": {},
   "outputs": [],
   "source": [
    "# Compute student model metrics without KD\n",
    "\n",
    "scratch_student.compile(optimizer='sgd',\n",
    "              loss='categorical_crossentropy',\n",
    "              metrics=['accuracy'])\n"
   ]
  },
  {
   "cell_type": "code",
   "execution_count": 5,
   "id": "e4e7e399",
   "metadata": {},
   "outputs": [
    {
     "name": "stdout",
     "output_type": "stream",
     "text": [
      "Epoch 1/7\n",
      "\u001b[1m250/250\u001b[0m \u001b[32m━━━━━━━━━━━━━━━━━━━━\u001b[0m\u001b[37m\u001b[0m \u001b[1m8s\u001b[0m 28ms/step - accuracy: 0.1512 - loss: 3.0152\n",
      "Epoch 2/7\n",
      "\u001b[1m250/250\u001b[0m \u001b[32m━━━━━━━━━━━━━━━━━━━━\u001b[0m\u001b[37m\u001b[0m \u001b[1m8s\u001b[0m 33ms/step - accuracy: 0.2851 - loss: 2.1061\n",
      "Epoch 3/7\n",
      "\u001b[1m250/250\u001b[0m \u001b[32m━━━━━━━━━━━━━━━━━━━━\u001b[0m\u001b[37m\u001b[0m \u001b[1m10s\u001b[0m 40ms/step - accuracy: 0.3468 - loss: 1.8659\n",
      "Epoch 4/7\n",
      "\u001b[1m250/250\u001b[0m \u001b[32m━━━━━━━━━━━━━━━━━━━━\u001b[0m\u001b[37m\u001b[0m \u001b[1m8s\u001b[0m 33ms/step - accuracy: 0.3813 - loss: 1.7458\n",
      "Epoch 5/7\n",
      "\u001b[1m250/250\u001b[0m \u001b[32m━━━━━━━━━━━━━━━━━━━━\u001b[0m\u001b[37m\u001b[0m \u001b[1m8s\u001b[0m 30ms/step - accuracy: 0.4135 - loss: 1.6581\n",
      "Epoch 6/7\n",
      "\u001b[1m250/250\u001b[0m \u001b[32m━━━━━━━━━━━━━━━━━━━━\u001b[0m\u001b[37m\u001b[0m \u001b[1m9s\u001b[0m 38ms/step - accuracy: 0.4658 - loss: 1.5480\n",
      "Epoch 7/7\n",
      "\u001b[1m250/250\u001b[0m \u001b[32m━━━━━━━━━━━━━━━━━━━━\u001b[0m\u001b[37m\u001b[0m \u001b[1m6s\u001b[0m 25ms/step - accuracy: 0.4563 - loss: 1.5283\n"
     ]
    },
    {
     "data": {
      "text/plain": [
       "<keras.src.callbacks.history.History at 0x1e971729360>"
      ]
     },
     "execution_count": 5,
     "metadata": {},
     "output_type": "execute_result"
    }
   ],
   "source": [
    "# First, let us try to see what if we directly train the student model without using knowledge distillation\n",
    "\n",
    "scratch_student.fit(X_train, train_labels, epochs=7, batch_size=32)\n"
   ]
  },
  {
   "cell_type": "code",
   "execution_count": 6,
   "id": "d0aac09f",
   "metadata": {},
   "outputs": [
    {
     "name": "stdout",
     "output_type": "stream",
     "text": [
      "\u001b[1m63/63\u001b[0m \u001b[32m━━━━━━━━━━━━━━━━━━━━\u001b[0m\u001b[37m\u001b[0m \u001b[1m1s\u001b[0m 13ms/step - accuracy: 0.2058 - loss: 2.5685\n"
     ]
    },
    {
     "data": {
      "text/plain": [
       "[2.3702526092529297, 0.24250000715255737]"
      ]
     },
     "execution_count": 6,
     "metadata": {},
     "output_type": "execute_result"
    }
   ],
   "source": [
    "# We evaluate student model for its loss and accuracy, if the student model is trained without using knowledge distillation\n",
    "\n",
    "scratch_student.evaluate(X_test, test_labels)\n"
   ]
  },
  {
   "cell_type": "code",
   "execution_count": 7,
   "id": "0249b30a",
   "metadata": {},
   "outputs": [],
   "source": [
    "# Now let us try using knowledge distillation\n",
    "# KNOWLEDGE DISTILLATION CLASS, You can adjust alpha based on how much you want the student to learn from the teacher\n",
    "\n",
    "class Distiller(keras.Model):\n",
    "    def __init__(self, student, teacher):\n",
    "        super().__init__()\n",
    "        self.teacher = teacher\n",
    "        self.student = student\n",
    "\n",
    "    def compile(\n",
    "        self,\n",
    "        optimizer,\n",
    "        metrics,\n",
    "        student_loss_fn,\n",
    "        distillation_loss_fn,\n",
    "        alpha=0.2,\n",
    "        temperature=3,\n",
    "    ):\n",
    "        super().compile(optimizer=optimizer, metrics=metrics)\n",
    "        self.student_loss_fn = student_loss_fn\n",
    "        self.distillation_loss_fn = distillation_loss_fn\n",
    "        self.alpha = alpha\n",
    "        self.temperature = temperature\n",
    "\n",
    "    def compute_loss(\n",
    "        self, x=None, y=None, y_pred=None, sample_weight=None, allow_empty=False\n",
    "    ):\n",
    "        teacher_pred = self.teacher(x, training=False)\n",
    "        student_loss = self.student_loss_fn(y, y_pred)\n",
    "\n",
    "        distillation_loss = self.distillation_loss_fn(\n",
    "            tf.nn.softmax(teacher_pred / self.temperature, axis=1),\n",
    "            tf.nn.softmax(y_pred / self.temperature, axis=1),\n",
    "        ) * (self.temperature**2)\n",
    "\n",
    "        loss = self.alpha * student_loss + (1 - self.alpha) * distillation_loss\n",
    "        return loss\n",
    "\n",
    "    def call(self, x):\n",
    "        return self.student(x)\n"
   ]
  },
  {
   "cell_type": "code",
   "execution_count": 8,
   "id": "786cc9bb",
   "metadata": {},
   "outputs": [
    {
     "name": "stdout",
     "output_type": "stream",
     "text": [
      "Epoch 1/7\n",
      "\u001b[1m200/200\u001b[0m \u001b[32m━━━━━━━━━━━━━━━━━━━━\u001b[0m\u001b[37m\u001b[0m \u001b[1m15s\u001b[0m 48ms/step - categorical_accuracy: 0.1234 - loss: 2.2608 - val_categorical_accuracy: 0.0000e+00 - val_loss: 3.6147\n",
      "Epoch 2/7\n",
      "\u001b[1m200/200\u001b[0m \u001b[32m━━━━━━━━━━━━━━━━━━━━\u001b[0m\u001b[37m\u001b[0m \u001b[1m9s\u001b[0m 44ms/step - categorical_accuracy: 0.2540 - loss: 2.2056 - val_categorical_accuracy: 0.0000e+00 - val_loss: 4.1309\n",
      "Epoch 3/7\n",
      "\u001b[1m200/200\u001b[0m \u001b[32m━━━━━━━━━━━━━━━━━━━━\u001b[0m\u001b[37m\u001b[0m \u001b[1m11s\u001b[0m 52ms/step - categorical_accuracy: 0.4622 - loss: 2.1340 - val_categorical_accuracy: 0.0000e+00 - val_loss: 4.4301\n",
      "Epoch 4/7\n",
      "\u001b[1m200/200\u001b[0m \u001b[32m━━━━━━━━━━━━━━━━━━━━\u001b[0m\u001b[37m\u001b[0m \u001b[1m10s\u001b[0m 52ms/step - categorical_accuracy: 0.5791 - loss: 2.0805 - val_categorical_accuracy: 0.0000e+00 - val_loss: 4.8755\n",
      "Epoch 5/7\n",
      "\u001b[1m200/200\u001b[0m \u001b[32m━━━━━━━━━━━━━━━━━━━━\u001b[0m\u001b[37m\u001b[0m \u001b[1m9s\u001b[0m 44ms/step - categorical_accuracy: 0.6553 - loss: 2.0484 - val_categorical_accuracy: 0.0000e+00 - val_loss: 4.3482\n",
      "Epoch 6/7\n",
      "\u001b[1m200/200\u001b[0m \u001b[32m━━━━━━━━━━━━━━━━━━━━\u001b[0m\u001b[37m\u001b[0m \u001b[1m10s\u001b[0m 49ms/step - categorical_accuracy: 0.7174 - loss: 2.0140 - val_categorical_accuracy: 0.0000e+00 - val_loss: 5.0742\n",
      "Epoch 7/7\n",
      "\u001b[1m200/200\u001b[0m \u001b[32m━━━━━━━━━━━━━━━━━━━━\u001b[0m\u001b[37m\u001b[0m \u001b[1m10s\u001b[0m 50ms/step - categorical_accuracy: 0.7830 - loss: 1.9874 - val_categorical_accuracy: 0.0000e+00 - val_loss: 5.0664\n"
     ]
    }
   ],
   "source": [
    "# Initialize the distiller\n",
    "# Train the student model using knowledge distillation\n",
    "\n",
    "distiller = Distiller(student=student_model, teacher=teacher_model)\n",
    "\n",
    "# Compiling the Distiller. You can adjust alpha based on how much you want the student to learn from the teacher\n",
    "distiller.compile(\n",
    "    optimizer=keras.optimizers.Adam(),\n",
    "    metrics=[metrics.CategoricalAccuracy()],\n",
    "    student_loss_fn=losses.CategoricalCrossentropy(),\n",
    "    distillation_loss_fn=losses.CategoricalCrossentropy(),\n",
    "    alpha=0.2,\n",
    "    temperature=1,\n",
    ")\n",
    "\n",
    "# Fitting the student model receiving KD\n",
    "history = distiller.fit(\n",
    "    X_train,\n",
    "    train_labels,\n",
    "    epochs=7,\n",
    "    batch_size=32,\n",
    "    validation_split=0.2,\n",
    ")\n"
   ]
  },
  {
   "cell_type": "code",
   "execution_count": 9,
   "id": "ff2b1e6a",
   "metadata": {},
   "outputs": [
    {
     "name": "stdout",
     "output_type": "stream",
     "text": [
      "\u001b[1m63/63\u001b[0m \u001b[32m━━━━━━━━━━━━━━━━━━━━\u001b[0m\u001b[37m\u001b[0m \u001b[1m2s\u001b[0m 15ms/step - categorical_accuracy: 0.2858 - loss: 2.4740\n"
     ]
    },
    {
     "data": {
      "text/plain": [
       "[2.877549886703491, 0.21699999272823334]"
      ]
     },
     "execution_count": 9,
     "metadata": {},
     "output_type": "execute_result"
    }
   ],
   "source": [
    "# We evaluate student model again for its loss and accuracy,\n",
    "# But this time the student model is trained using knowledge distillation\n",
    "# You can compare this results with the results above\n",
    "\n",
    "distiller.evaluate(X_test, test_labels)\n"
   ]
  },
  {
   "cell_type": "code",
   "execution_count": null,
   "id": "547dfded",
   "metadata": {},
   "outputs": [],
   "source": []
  }
 ],
 "metadata": {
  "kernelspec": {
   "display_name": "Python 3",
   "language": "python",
   "name": "python3"
  },
  "language_info": {
   "codemirror_mode": {
    "name": "ipython",
    "version": 3
   },
   "file_extension": ".py",
   "mimetype": "text/x-python",
   "name": "python",
   "nbconvert_exporter": "python",
   "pygments_lexer": "ipython3",
   "version": "3.10.16"
  }
 },
 "nbformat": 4,
 "nbformat_minor": 5
}
