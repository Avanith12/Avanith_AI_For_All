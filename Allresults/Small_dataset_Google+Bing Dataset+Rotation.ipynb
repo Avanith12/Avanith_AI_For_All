{
 "cells": [
  {
   "cell_type": "code",
   "execution_count": 2,
   "id": "4de91996",
   "metadata": {},
   "outputs": [],
   "source": [
    "# IMPORTS\n",
    "\n",
    "import tensorflow as tf\n",
    "import numpy as np\n",
    "from tensorflow import keras\n",
    "from keras import layers, models\n",
    "import matplotlib.pyplot as plt\n",
    "from keras.utils import to_categorical\n",
    "from keras import metrics, losses\n",
    "from keras.models import load_model\n",
    "from sklearn.model_selection import train_test_split\n",
    "from PIL import Image\n",
    "import os\n",
    "import random\n"
   ]
  },
  {
   "cell_type": "code",
   "execution_count": 3,
   "id": "0e4d68e3",
   "metadata": {},
   "outputs": [
    {
     "name": "stderr",
     "output_type": "stream",
     "text": [
      "WARNING:absl:No training configuration found in the save file, so the model was *not* compiled. Compile it manually.\n",
      "WARNING:absl:No training configuration found in the save file, so the model was *not* compiled. Compile it manually.\n",
      "WARNING:absl:Compiled the loaded model, but the compiled metrics have yet to be built. `model.compile_metrics` will be empty until you train or evaluate the model.\n"
     ]
    }
   ],
   "source": [
    "# Load both the teacher and student model\n",
    "\n",
    "scratch_student = load_model('student_model.h5')\n",
    "student_model = load_model('student_model.h5')\n",
    "teacher_model =  load_model('teacher_model.h5')\n"
   ]
  },
  {
   "cell_type": "code",
   "execution_count": null,
   "id": "984d2531",
   "metadata": {},
   "outputs": [
    {
     "name": "stdout",
     "output_type": "stream",
     "text": [
      "Training images shape: (800, 32, 32, 3)\n",
      "Testing images shape: (200, 32, 32, 3)\n"
     ]
    }
   ],
   "source": [
    "# Below is just an example — here we load our own constructed dataset from google+bing(1000)\n",
    "# We split each class into:\n",
    "# 400 original for training\n",
    "# 400 augmented (180-degree rotated) for training\n",
    "# 200 remaining for testing\n",
    "\n",
    "data_dir = \"google+bing(1000)\"\n",
    "img_height = 32\n",
    "img_width = 32\n",
    "classes = sorted(os.listdir(data_dir))\n",
    "class_indices = {cls: idx for idx, cls in enumerate(classes)}\n",
    "\n",
    "X_all = []\n",
    "y_all = []\n",
    "\n",
    "for cls in classes:\n",
    "    cls_path = os.path.join(data_dir, cls)\n",
    "    image_files = sorted(os.listdir(cls_path))\n",
    "    selected = random.sample(image_files, 60)\n",
    "\n",
    "    for fname in selected:\n",
    "        img_path = os.path.join(cls_path, fname)\n",
    "        img = Image.open(img_path).convert(\"RGB\").resize((img_width, img_height))  # ← fixed here\n",
    "        X_all.append(np.array(img))\n",
    "        y_all.append(class_indices[cls])\n",
    "\n",
    "X_train = []\n",
    "y_train = []\n",
    "X_test = []\n",
    "y_test = []\n",
    "\n",
    "X_all = np.array(X_all)\n",
    "y_all = np.array(y_all)\n",
    "\n",
    "for cls_idx in range(len(classes)):\n",
    "    idxs = np.where(y_all == cls_idx)[0]\n",
    "    X_train.extend(X_all[idxs][:40])\n",
    "    y_train.extend([cls_idx]*40)\n",
    "    X_test.extend(X_all[idxs][40:])\n",
    "    y_test.extend([cls_idx]*20)\n",
    "\n",
    "# Augment training set with 180-degree rotated copies\n",
    "X_aug = [np.array(Image.fromarray(img).rotate(180)) for img in X_train]\n",
    "y_aug = y_train.copy()\n",
    "\n",
    "X_train = np.array(X_train + X_aug)\n",
    "y_train = np.array(y_train + y_aug)\n",
    "X_test = np.array(X_test)\n",
    "y_test = np.array(y_test)\n",
    "\n",
    "X_train = X_train.astype('float32') / 255.0\n",
    "X_test = X_test.astype('float32') / 255.0\n",
    "\n",
    "train_labels = to_categorical(y_train, num_classes=10)\n",
    "test_labels = to_categorical(y_test, num_classes=10)\n",
    "\n",
    "print(f\"Training images shape: {X_train.shape}\")\n",
    "print(f\"Testing images shape: {X_test.shape}\")\n"
   ]
  },
  {
   "cell_type": "code",
   "execution_count": 8,
   "id": "240a00a1",
   "metadata": {},
   "outputs": [],
   "source": [
    "# Compute student model metrics without KD\n",
    "\n",
    "scratch_student.compile(optimizer = 'sgd',\n",
    "              loss='categorical_crossentropy',\n",
    "              metrics=['accuracy'])\n"
   ]
  },
  {
   "cell_type": "code",
   "execution_count": 9,
   "id": "a114cb6e",
   "metadata": {},
   "outputs": [
    {
     "name": "stdout",
     "output_type": "stream",
     "text": [
      "Epoch 1/7\n",
      "\u001b[1m25/25\u001b[0m \u001b[32m━━━━━━━━━━━━━━━━━━━━\u001b[0m\u001b[37m\u001b[0m \u001b[1m3s\u001b[0m 33ms/step - accuracy: 0.1295 - loss: 3.3667\n",
      "Epoch 2/7\n",
      "\u001b[1m25/25\u001b[0m \u001b[32m━━━━━━━━━━━━━━━━━━━━\u001b[0m\u001b[37m\u001b[0m \u001b[1m1s\u001b[0m 34ms/step - accuracy: 0.2117 - loss: 2.7361\n",
      "Epoch 3/7\n",
      "\u001b[1m25/25\u001b[0m \u001b[32m━━━━━━━━━━━━━━━━━━━━\u001b[0m\u001b[37m\u001b[0m \u001b[1m1s\u001b[0m 31ms/step - accuracy: 0.2403 - loss: 2.4981\n",
      "Epoch 4/7\n",
      "\u001b[1m25/25\u001b[0m \u001b[32m━━━━━━━━━━━━━━━━━━━━\u001b[0m\u001b[37m\u001b[0m \u001b[1m1s\u001b[0m 31ms/step - accuracy: 0.2871 - loss: 2.2472\n",
      "Epoch 5/7\n",
      "\u001b[1m25/25\u001b[0m \u001b[32m━━━━━━━━━━━━━━━━━━━━\u001b[0m\u001b[37m\u001b[0m \u001b[1m1s\u001b[0m 32ms/step - accuracy: 0.2774 - loss: 2.2732\n",
      "Epoch 6/7\n",
      "\u001b[1m25/25\u001b[0m \u001b[32m━━━━━━━━━━━━━━━━━━━━\u001b[0m\u001b[37m\u001b[0m \u001b[1m1s\u001b[0m 35ms/step - accuracy: 0.2804 - loss: 2.2052\n",
      "Epoch 7/7\n",
      "\u001b[1m25/25\u001b[0m \u001b[32m━━━━━━━━━━━━━━━━━━━━\u001b[0m\u001b[37m\u001b[0m \u001b[1m1s\u001b[0m 35ms/step - accuracy: 0.3323 - loss: 2.0708\n"
     ]
    },
    {
     "data": {
      "text/plain": [
       "<keras.src.callbacks.history.History at 0x25f5ba39900>"
      ]
     },
     "execution_count": 9,
     "metadata": {},
     "output_type": "execute_result"
    }
   ],
   "source": [
    "# First, let us try to see what if we directly train the student model without using knowledge distillation\n",
    "\n",
    "scratch_student.fit(X_train, train_labels, epochs=7, batch_size=32)\n"
   ]
  },
  {
   "cell_type": "code",
   "execution_count": 10,
   "id": "83542870",
   "metadata": {},
   "outputs": [
    {
     "name": "stdout",
     "output_type": "stream",
     "text": [
      "\u001b[1m7/7\u001b[0m \u001b[32m━━━━━━━━━━━━━━━━━━━━\u001b[0m\u001b[37m\u001b[0m \u001b[1m0s\u001b[0m 21ms/step - accuracy: 0.0940 - loss: 3.2321    \n"
     ]
    },
    {
     "data": {
      "text/plain": [
       "[2.8883097171783447, 0.10000000149011612]"
      ]
     },
     "execution_count": 10,
     "metadata": {},
     "output_type": "execute_result"
    }
   ],
   "source": [
    "# We evaluate student model for its loss and accuracy, if the student model is trained without using knowledge distillation\n",
    "\n",
    "scratch_student.evaluate(X_test, test_labels)\n"
   ]
  },
  {
   "cell_type": "code",
   "execution_count": 11,
   "id": "56c100dd",
   "metadata": {},
   "outputs": [],
   "source": [
    "# KNOWLEDGE DISTILLATION CLASS, You can adjust alpha based on how much you want the student to learn from the teacher\n",
    "\n",
    "class Distiller(keras.Model):\n",
    "    def __init__(self, student, teacher):\n",
    "        super().__init__()\n",
    "        self.teacher = teacher\n",
    "        self.student = student\n",
    "\n",
    "    def compile(\n",
    "        self,\n",
    "        optimizer,\n",
    "        metrics,\n",
    "        student_loss_fn,\n",
    "        distillation_loss_fn,\n",
    "        alpha=0.2,\n",
    "        temperature=3,\n",
    "    ):\n",
    "        super().compile(optimizer=optimizer, metrics=metrics)\n",
    "        self.student_loss_fn = student_loss_fn\n",
    "        self.distillation_loss_fn = distillation_loss_fn\n",
    "        self.alpha = alpha\n",
    "        self.temperature = temperature\n",
    "\n",
    "    def compute_loss(\n",
    "        self, x=None, y=None, y_pred=None, sample_weight=None, allow_empty=False\n",
    "    ):\n",
    "        teacher_pred = self.teacher(x, training=False)\n",
    "        student_loss = self.student_loss_fn(y, y_pred)\n",
    "\n",
    "        distillation_loss = self.distillation_loss_fn(\n",
    "            tf.nn.softmax(teacher_pred / self.temperature, axis=1),\n",
    "            tf.nn.softmax(y_pred / self.temperature, axis=1),\n",
    "        ) * (self.temperature**2)\n",
    "\n",
    "        loss = self.alpha * student_loss + (1 - self.alpha) * distillation_loss\n",
    "        return loss\n",
    "\n",
    "    def call(self, x):\n",
    "        return self.student(x)\n"
   ]
  },
  {
   "cell_type": "code",
   "execution_count": 12,
   "id": "8e4da9a5",
   "metadata": {},
   "outputs": [
    {
     "name": "stdout",
     "output_type": "stream",
     "text": [
      "Epoch 1/7\n",
      "\u001b[1m20/20\u001b[0m \u001b[32m━━━━━━━━━━━━━━━━━━━━\u001b[0m\u001b[37m\u001b[0m \u001b[1m7s\u001b[0m 78ms/step - categorical_accuracy: 0.1413 - loss: 2.2977 - val_categorical_accuracy: 0.0000e+00 - val_loss: 2.4020\n",
      "Epoch 2/7\n",
      "\u001b[1m20/20\u001b[0m \u001b[32m━━━━━━━━━━━━━━━━━━━━\u001b[0m\u001b[37m\u001b[0m \u001b[1m1s\u001b[0m 49ms/step - categorical_accuracy: 0.1824 - loss: 2.2692 - val_categorical_accuracy: 0.0000e+00 - val_loss: 2.4825\n",
      "Epoch 3/7\n",
      "\u001b[1m20/20\u001b[0m \u001b[32m━━━━━━━━━━━━━━━━━━━━\u001b[0m\u001b[37m\u001b[0m \u001b[1m1s\u001b[0m 58ms/step - categorical_accuracy: 0.2910 - loss: 2.2229 - val_categorical_accuracy: 0.0188 - val_loss: 2.4471\n",
      "Epoch 4/7\n",
      "\u001b[1m20/20\u001b[0m \u001b[32m━━━━━━━━━━━━━━━━━━━━\u001b[0m\u001b[37m\u001b[0m \u001b[1m1s\u001b[0m 46ms/step - categorical_accuracy: 0.3160 - loss: 2.1963 - val_categorical_accuracy: 0.0188 - val_loss: 2.6268\n",
      "Epoch 5/7\n",
      "\u001b[1m20/20\u001b[0m \u001b[32m━━━━━━━━━━━━━━━━━━━━\u001b[0m\u001b[37m\u001b[0m \u001b[1m1s\u001b[0m 43ms/step - categorical_accuracy: 0.4159 - loss: 2.1652 - val_categorical_accuracy: 0.0312 - val_loss: 2.5650\n",
      "Epoch 6/7\n",
      "\u001b[1m20/20\u001b[0m \u001b[32m━━━━━━━━━━━━━━━━━━━━\u001b[0m\u001b[37m\u001b[0m \u001b[1m1s\u001b[0m 46ms/step - categorical_accuracy: 0.4152 - loss: 2.1425 - val_categorical_accuracy: 0.1000 - val_loss: 2.5788\n",
      "Epoch 7/7\n",
      "\u001b[1m20/20\u001b[0m \u001b[32m━━━━━━━━━━━━━━━━━━━━\u001b[0m\u001b[37m\u001b[0m \u001b[1m1s\u001b[0m 44ms/step - categorical_accuracy: 0.5135 - loss: 2.1203 - val_categorical_accuracy: 0.0812 - val_loss: 2.6607\n"
     ]
    }
   ],
   "source": [
    "# Initialize the distiller\n",
    "# Train the student model using knowledge distillation\n",
    "\n",
    "distiller = Distiller(student=student_model, teacher=teacher_model)\n",
    "\n",
    "distiller.compile(\n",
    "    optimizer=keras.optimizers.Adam(),\n",
    "    metrics=[metrics.CategoricalAccuracy()],\n",
    "    student_loss_fn=losses.CategoricalCrossentropy(),\n",
    "    distillation_loss_fn=losses.CategoricalCrossentropy(),\n",
    "    alpha=0.2,\n",
    "    temperature=1,\n",
    ") \n",
    "\n",
    "# Fitting the student model receiving KD\n",
    "history = distiller.fit(\n",
    "    X_train,\n",
    "    train_labels,\n",
    "    epochs=7,\n",
    "    batch_size=32,  \n",
    "    validation_split=0.2,\n",
    ")\n"
   ]
  },
  {
   "cell_type": "code",
   "execution_count": 13,
   "id": "e177ff9e",
   "metadata": {},
   "outputs": [
    {
     "name": "stdout",
     "output_type": "stream",
     "text": [
      "\u001b[1m7/7\u001b[0m \u001b[32m━━━━━━━━━━━━━━━━━━━━\u001b[0m\u001b[37m\u001b[0m \u001b[1m1s\u001b[0m 27ms/step - categorical_accuracy: 0.4068 - loss: 2.1520\n"
     ]
    },
    {
     "data": {
      "text/plain": [
       "[2.1824004650115967, 0.35499998927116394]"
      ]
     },
     "execution_count": 13,
     "metadata": {},
     "output_type": "execute_result"
    }
   ],
   "source": [
    "# We evaluate student model again for its loss and accuracy,\n",
    "# But this time the student model is trained using knowledge distillation\n",
    "# You can compare this results with the results above\n",
    "\n",
    "distiller.evaluate(X_test, test_labels)\n"
   ]
  },
  {
   "cell_type": "code",
   "execution_count": null,
   "id": "8f14a83f",
   "metadata": {},
   "outputs": [],
   "source": []
  }
 ],
 "metadata": {
  "kernelspec": {
   "display_name": "Python 3",
   "language": "python",
   "name": "python3"
  },
  "language_info": {
   "codemirror_mode": {
    "name": "ipython",
    "version": 3
   },
   "file_extension": ".py",
   "mimetype": "text/x-python",
   "name": "python",
   "nbconvert_exporter": "python",
   "pygments_lexer": "ipython3",
   "version": "3.10.16"
  }
 },
 "nbformat": 4,
 "nbformat_minor": 5
}
